{
 "cells": [
  {
   "cell_type": "markdown",
   "metadata": {},
   "source": [
    "# SQL USANDO SQLITE EN PYTHON   \n",
    "\n",
    "Vamos a practicar con los ejemplos realizadas durante el curso \"SQL for Data Science Interviews\" de Tina Huang de inicio a fin \n",
    " "
   ]
  },
  {
   "cell_type": "markdown",
   "metadata": {},
   "source": [
    "# Importación de librerías"
   ]
  },
  {
   "cell_type": "code",
   "execution_count": 42,
   "metadata": {},
   "outputs": [],
   "source": [
    "import pandas as pd \n",
    "import numpy as np \n",
    "import sqlite3  # Importamos la librería sqlite\n",
    "import csv"
   ]
  },
  {
   "cell_type": "markdown",
   "metadata": {},
   "source": [
    "# Instanciando BBDD"
   ]
  },
  {
   "cell_type": "code",
   "execution_count": 43,
   "metadata": {},
   "outputs": [],
   "source": [
    "# Conectamos con la base de datos data.db\n",
    "connection = sqlite3.connect(\"data.db\")\n",
    "\n",
    "# Obtenemos un cursor que utilizaremos para hacer las queries\n",
    "cursor = connection.cursor()"
   ]
  },
  {
   "cell_type": "markdown",
   "metadata": {},
   "source": [
    "# Función para interactuar con la BBDD"
   ]
  },
  {
   "cell_type": "code",
   "execution_count": 44,
   "metadata": {},
   "outputs": [],
   "source": [
    "# Con esta función leemos los datos y lo pasamos a un DataFrame de Pandas\n",
    "def sql_query(query):\n",
    "\n",
    "    # Ejecutamos la query\n",
    "    cursor.execute(query)\n",
    "\n",
    "    # Almacenamos los datos de la query \n",
    "    ans = cursor.fetchall()\n",
    "\n",
    "    # Obtenemos los nombres de las columnas de la tabla\n",
    "    names = [description[0] for description in cursor.description]\n",
    "\n",
    "    return pd.DataFrame(ans,columns=names)"
   ]
  },
  {
   "cell_type": "code",
   "execution_count": 45,
   "metadata": {},
   "outputs": [
    {
     "name": "stdout",
     "output_type": "stream",
     "text": [
      "post_events\n",
      "eu_energy\n",
      "asia_energy\n",
      "na_energy\n",
      "account_status\n",
      "request_logs\n",
      "twitter_employee\n",
      "users\n",
      "comments\n",
      "transactions\n",
      "web_log\n",
      "customers\n",
      "orders\n"
     ]
    }
   ],
   "source": [
    "# Ejecutamos la query para obtener los nombres de las tablas dentro de la base de datos(master)\n",
    "sql_code = cursor.execute(''' SELECT name FROM sqlite_master WHERE type='table' ''')\n",
    "\n",
    "# Aplicamos un loop para mostrar los nombres de las tablas\n",
    "for name in sql_code:\n",
    "  print(name[0])\n",
    "\n",
    "# Ya que estamos creando la base de datos, no tiene tablas dentro"
   ]
  },
  {
   "cell_type": "markdown",
   "metadata": {},
   "source": [
    "# Creando las tablas e insertando valores"
   ]
  },
  {
   "cell_type": "markdown",
   "metadata": {},
   "source": [
    "Para crear tablas e insertar datos, podemos usar 'cursor.execute' y ejecutar acciones de forma individual, pero ya que queremos mostrar el script de creación e inserción de datos por cada tabla, usamos 'executescript'"
   ]
  },
  {
   "cell_type": "code",
   "execution_count": 46,
   "metadata": {},
   "outputs": [
    {
     "data": {
      "text/plain": [
       "<sqlite3.Cursor at 0x16b0d828440>"
      ]
     },
     "execution_count": 46,
     "metadata": {},
     "output_type": "execute_result"
    }
   ],
   "source": [
    "query_table_post_events=''' create table if not exists post_events (user_id int ,\n",
    "                                                                    created_at date , \n",
    "                                                                    event_name varchar(20)) ;\n",
    "\n",
    "-- No olvidemos que cuando tenemos más de una instrucción, debemos separarlos por punto y coma\n",
    "\n",
    "insert into post_events values (1, '2020-06-01', 'enter'),\n",
    "                                (1, '2020-06-01', 'post'),\n",
    "                                (2, '2020-06-01', 'enter'),\n",
    "                                (2, '2020-06-01', 'cancel'),\n",
    "                                (2, '2020-06-01', 'enter'),\n",
    "                                (2, '2020-06-01', 'cancel'),\n",
    "                                (1, '2020-06-02', 'enter'),\n",
    "                                (1, '2020-06-02', 'cancel'),\n",
    "                                (3, '2020-06-02', 'enter'),\n",
    "                                (3, '2020-06-02', 'post'),\n",
    "                                (1, '2020-06-03', 'enter'),\n",
    "                                (1, '2020-06-03', 'cancel'),\n",
    "                                (3, '2020-06-03', 'enter'),\n",
    "                                (3, '2020-06-03', 'cancel');'''\n",
    "                                \n",
    "cursor.executescript(query_table_post_events)"
   ]
  },
  {
   "cell_type": "code",
   "execution_count": 47,
   "metadata": {},
   "outputs": [
    {
     "data": {
      "text/plain": [
       "<sqlite3.Cursor at 0x16b0d828440>"
      ]
     },
     "execution_count": 47,
     "metadata": {},
     "output_type": "execute_result"
    }
   ],
   "source": [
    "query_eu_energy='''create table if not exists eu_energy (date date, \n",
    "                        consumption int);\n",
    "\n",
    "insert into eu_energy values ('2019-06-01', 10),\n",
    "                               ('2019-06-02', 11),\n",
    "                               ('2019-06-03', 20),\n",
    "                               ('2019-06-04', 10),\n",
    "                               ('2019-06-05', 10),\n",
    "                               ('2019-06-06', 10);'''\n",
    "\n",
    "cursor.executescript(query_eu_energy)\n"
   ]
  },
  {
   "cell_type": "code",
   "execution_count": 48,
   "metadata": {},
   "outputs": [
    {
     "data": {
      "text/plain": [
       "<sqlite3.Cursor at 0x16b0d828440>"
      ]
     },
     "execution_count": 48,
     "metadata": {},
     "output_type": "execute_result"
    }
   ],
   "source": [
    " query_asia_energy= '''create table if not exists asia_energy (date date, \n",
    "                            consumption int\n",
    "  );\n",
    "\n",
    "insert into asia_energy values ('2019-06-01', 44),\n",
    "                                ('2019-06-02', 30),\n",
    "                                ('2019-06-03', 12),\n",
    "                                ('2019-06-04', 30),\n",
    "                                ('2019-06-05', 30),\n",
    "                                ('2019-06-06', 44);\n",
    "\n",
    "'''\n",
    "cursor.executescript(query_asia_energy)"
   ]
  },
  {
   "cell_type": "code",
   "execution_count": 49,
   "metadata": {},
   "outputs": [
    {
     "data": {
      "text/plain": [
       "<sqlite3.Cursor at 0x16b0d828440>"
      ]
     },
     "execution_count": 49,
     "metadata": {},
     "output_type": "execute_result"
    }
   ],
   "source": [
    "query_na_energy='''create table if not exists na_energy (date date, \n",
    "                        consumption int);\n",
    "\n",
    "insert into na_energy values ('2019-06-01', 29),\n",
    "                             ('2019-06-02', 30),\n",
    "                             ('2019-06-03', 29),\n",
    "                             ('2019-06-04', 29),\n",
    "                             ('2019-06-05', 29),\n",
    "                             ('2019-06-06', 29);'''\n",
    "cursor.executescript(query_na_energy)"
   ]
  },
  {
   "cell_type": "code",
   "execution_count": 50,
   "metadata": {},
   "outputs": [
    {
     "data": {
      "text/plain": [
       "<sqlite3.Cursor at 0x16b0d828440>"
      ]
     },
     "execution_count": 50,
     "metadata": {},
     "output_type": "execute_result"
    }
   ],
   "source": [
    "query_account_status='''create table if not exists account_status ( acc_id int, \n",
    "                                                        date date, \n",
    "                                                        status varchar(20) );\n",
    "\n",
    "insert into account_status values (1, '2020-01-07', 'open'),\n",
    "                                  (2, '2020-01-07', 'open'),\n",
    "                                  (3, '2020-01-07', 'open'),\n",
    "                                  (4, '2020-01-07', 'open'),\n",
    "                                  (1, '2020-01-08', 'open'),\n",
    "                                  (2, '2020-01-08', 'closed'),\n",
    "                                  (3, '2020-01-08', 'open'),\n",
    "                                  (4, '2020-01-08', 'open'),\n",
    "                                  (1, '2020-01-09', 'open'),\n",
    "                                  (2, '2020-01-09', 'closed'),\n",
    "                                  (3, '2020-01-09', 'open'),\n",
    "                                  (4, '2020-01-09', 'closed'),\n",
    "                                  (1, '2020-01-10', 'open'),\n",
    "                                  (2, '2020-01-10', 'open'),\n",
    "                                  (3, '2020-01-10', 'open'),\n",
    "                                  (4, '2020-01-10', 'closed');'''\n",
    "\n",
    "cursor.executescript(query_account_status)"
   ]
  },
  {
   "cell_type": "code",
   "execution_count": 51,
   "metadata": {},
   "outputs": [
    {
     "data": {
      "text/plain": [
       "<sqlite3.Cursor at 0x16b0d828440>"
      ]
     },
     "execution_count": 51,
     "metadata": {},
     "output_type": "execute_result"
    }
   ],
   "source": [
    "query_request_logs='''create table if not exists request_logs ( request_id int, \n",
    "                                                  request_date date, \n",
    "                                                  request_status varchar(20), \n",
    "                                                  distance_to_travel float, \n",
    "                                                  monetary_cost float, \n",
    "                                                  driver_to_client_distance float );\n",
    "\n",
    "\n",
    "insert into request_logs values (1, '2020-01-07', 'success', 15, 22, 4),\n",
    "                                  (2, '2020-01-09', 'success', 12, 10, 9),\n",
    "                                  (3, '2020-01-11', 'success', 9, 4, 4),\n",
    "                                  (4, '2020-01-21', 'canceled_by_driver', 13, 11, 40), \n",
    "                                  (5, '2020-02-07', 'success', 15, 22, 4),\n",
    "                                  (6, '2020-02-09', 'canceled_by_client', 20, 32, 50),\n",
    "                                  (7, '2020-02-11', 'success', 56, 60, 1),\n",
    "                                  (8, '2020-02-21', 'canceled_by_driver', 3, 5, 99),   \n",
    "                                  (9, '2020-03-07', 'success', 15, 22, 4),\n",
    "                                  (10, '2020-03-09', 'success', 12, 10, 9),\n",
    "                                  (11, '2020-03-11', 'success', 9, 4, 4),\n",
    "                                  (12, '2020-03-21', 'canceled_by_client', 13, 11, 40), \n",
    "                                  (13, '2020-04-07', 'success', 15, 22, 4),\n",
    "                                  (14, '2020-04-09', 'success', 16, 9, 1),\n",
    "                                  (15, '2020-04-11', 'success', 18, 25, 6),\n",
    "                                  (16, '2020-04-21', 'canceled_by_driver', 88, 121, 6);'''\n",
    "\n",
    "cursor.executescript(query_request_logs)\n"
   ]
  },
  {
   "cell_type": "code",
   "execution_count": 52,
   "metadata": {},
   "outputs": [
    {
     "data": {
      "text/plain": [
       "<sqlite3.Cursor at 0x16b0d828440>"
      ]
     },
     "execution_count": 52,
     "metadata": {},
     "output_type": "execute_result"
    }
   ],
   "source": [
    "query_twitter_employee='''create table if not exists twitter_employee (id int,\n",
    "                                                        first_name varchar(50),\n",
    "                                                        last_name varchar(50),\n",
    "                                                        age int,\n",
    "                                                        sex varchar(10),\n",
    "                                                        employee_title varchar(50),\n",
    "                                                        department varchar(50),\n",
    "                                                        salary int,\n",
    "                                                        target int,\n",
    "                                                        bonus int,\n",
    "                                                        email varchar(50),\n",
    "                                                        city varchar(20),\n",
    "                                                        address varchar(100),\n",
    "                                                        manager_id int\n",
    "                                                        );\n",
    "\n",
    "insert into twitter_employee values (1, 'Jacob', 'Smith', 28, 'male', 'software engineer', 'tech', 80000, 82000, 10000, \n",
    "                                    'jacobsmith@twitter.com','bay area', NULL, 2),\n",
    "                                      (2, 'Sally', 'White', 33, 'female', 'software engineer manager', 'tech', 110000, 120000, 15000, \n",
    "                                    'sallywhite@twitter.com','chicago', NULL, 4),\n",
    "                                      (3, 'Arvind', 'Agarwal', 45, 'male', 'software engineer', 'tech', 400000, 420000, 50000, \n",
    "                                      NULL,'', NULL, 2),\n",
    "                                      (4, 'Lisa', 'Kim', 28, NULL, 'data scientist', 'tech', 70000, 790000, 12000, \n",
    "                                     NULL,'charlotte', NULL, 2),\n",
    "                                     (5, 'Ajay', 'Khan', 19, NULL, 'product manager intern', 'product', 40000, 40000, NULL, \n",
    "                                      NULL,'denver', NULL, NULL),\n",
    "                                     (6, 'Walter', 'White', 25, NULL, 'project manager', 'product', 100000, 100000, NULL, \n",
    "                                     NULL,'toronto', NULL, NULL),\n",
    "                                     (7, 'Paris', 'Green', 25, NULL, 'product manager', 'product', 100000, 100000, NULL, \n",
    "                                      NULL,'toronto', NULL, NULL),\n",
    "                                     (12, 'Kyle', 'Kyle', 50, NULL, 'product manager', 'product', 1200000, 1200000, NULL, \n",
    "                                     NULL,'bay area', NULL, NULL),\n",
    "                                     (8, 'Kelly', 'James', 19, NULL, NULL, 'hr', 40000, 40000, 20000, \n",
    "                                     NULL,NULL, NULL, NULL),\n",
    "                                     (9, 'Susan', 'Lee', 43, 'female', NULL, 'hr', 60000, 60000, 20000, \n",
    "                                     NULL,NULL, NULL, NULL),\n",
    "                                     (10, 'Jonas', 'Kwan', 25, 'male', NULL, 'hr', 60000, 60000, 20000, \n",
    "                                      NULL,NULL, NULL, NULL),\n",
    "                                     (11, 'Amanda', 'Lee', 40, 'non-binary', 'hr lead', 'hr', 300000, 300000, 30000, \n",
    "                                      NULL,NULL, NULL, NULL),\n",
    "                                     (13, 'Beepbeep', 'Boop', 1, 'male', 'cat', 'entertainment', NULL, NULL, NULL, \n",
    "                                      NULL,'chicago', NULL, NULL),\n",
    "                                     (14, 'Boop', 'Beepbeep', 1, 'female', 'cat', 'entertainment', NULL, NULL, NULL, \n",
    "                                    NULL,'chicago', NULL, NULL);'''\n",
    "\n",
    "cursor.executescript(query_twitter_employee)"
   ]
  },
  {
   "cell_type": "code",
   "execution_count": 53,
   "metadata": {},
   "outputs": [
    {
     "data": {
      "text/plain": [
       "<sqlite3.Cursor at 0x16b0d828440>"
      ]
     },
     "execution_count": 53,
     "metadata": {},
     "output_type": "execute_result"
    }
   ],
   "source": [
    "query_users='''create table if not exists users (id int,\n",
    "                                    name varchar(50),\n",
    "                                    joined_at date,\n",
    "                                    city_id int,\n",
    "                                    device int\n",
    "  );\n",
    "\n",
    "\n",
    "insert into users values (1, 'Bob Smith', '2018-01-23', 12, 9421),\n",
    "                          (2, 'Ashley Sparks', '2019-01-01', 12, 9422),\n",
    "                          (3, 'Donald Rump', '2020-01-14', 11, 9421),\n",
    "                          (4, 'Jacob Smith', '2018-08-31', 31, 9423),\n",
    "                          (5, 'Amanda Leon', '2018-04-18', 31, 9424),\n",
    "                          (6, 'Robert Little', '2018-07-23', 12, 9425),\n",
    "                          (7, 'Robert Big', '2020-01-31', 12, 9426),\n",
    "                          (8, 'Stuart Little', '2017-05-17', 11, 1356),\n",
    "                          (9, 'Samantha Junior', '2018-01-23', 12, 3421),\n",
    "                          (10, 'Kyle Curry', '2018-01-23', 12, 6537),\n",
    "                          (11, 'Jay Kim', '2018-01-21', 12, 2952),\n",
    "                          (12, 'Allen Barbara', '2018-11-25', 12, 6859),\n",
    "                          (13, 'Kelley Patel', '2011-01-01', 11, 5909),\n",
    "                          (14, 'Danielle Kaur', '2019-12-23', 12, 4950);'''\n",
    "\n",
    "cursor.executescript(query_users)"
   ]
  },
  {
   "cell_type": "code",
   "execution_count": 54,
   "metadata": {},
   "outputs": [
    {
     "data": {
      "text/plain": [
       "<sqlite3.Cursor at 0x16b0d828440>"
      ]
     },
     "execution_count": 54,
     "metadata": {},
     "output_type": "execute_result"
    }
   ],
   "source": [
    "query_comments='''create table if not exists comments (user_id int,\n",
    "                                        body varchar(500),\n",
    "                                        created_at date\n",
    "  );\n",
    "\n",
    "insert into comments values (1, 'I love cats', '2020-01-23'),\n",
    "                            (1, 'and dogs!', '2020-01-23'),\n",
    "                            (1, 'because there is meaning', '2020-01-23'),\n",
    "                            (7, 'cats are alright', '2020-01-18'),\n",
    "                            (7, 'no cats are great', '2020-01-05'),\n",
    "                            (12, 'I like papayas', '2020-01-21'),\n",
    "                            (12, 'no', '2020-01-31'),\n",
    "                            (12, 'im being nice', '2020-01-05'),\n",
    "                            (4, 'no go away', '2020-01-05'),\n",
    "                            (11, 'good', '2020-01-05'),\n",
    "                            (11, 'jolly good', '2020-05-05'),\n",
    "                            (11, 'cauliflower rice', '2020-11-05'),\n",
    "                            (5, 'data science is great!', '2020-01-11'),\n",
    "                            (11, 'yeah its alright', '2020-01-11');'''\n",
    "\n",
    "cursor.executescript(query_comments)"
   ]
  },
  {
   "cell_type": "code",
   "execution_count": 55,
   "metadata": {},
   "outputs": [
    {
     "data": {
      "text/plain": [
       "<sqlite3.Cursor at 0x16b0d828440>"
      ]
     },
     "execution_count": 55,
     "metadata": {},
     "output_type": "execute_result"
    }
   ],
   "source": [
    "query_transactions=''' create table if not exists transactions (  id int,\n",
    "                                                    created_at date,\n",
    "                                                    value int,\n",
    "                                                    purchase_id int\n",
    "                                                    );\n",
    "\n",
    "  insert into transactions values (1, '2020-01-23', 10, 100),\n",
    "                                  (1, '2020-01-23', 99, 101),\n",
    "                                  (1, '2020-02-23', 242, 102),\n",
    "                                  (1, '2020-02-23', 135, 103),\n",
    "                                  (1, '2020-02-23', 234, 104),\n",
    "                                  (1, '2020-03-23', 3453, 105),\n",
    "                                  (1, '2020-04-23', 112, 106),\n",
    "                                  (1, '2020-04-23', 1453, 107),\n",
    "                                  (1, '2020-05-23', 4564, 108);'''\n",
    "cursor.executescript(query_transactions)"
   ]
  },
  {
   "cell_type": "code",
   "execution_count": 56,
   "metadata": {},
   "outputs": [
    {
     "data": {
      "text/html": [
       "<div>\n",
       "<style scoped>\n",
       "    .dataframe tbody tr th:only-of-type {\n",
       "        vertical-align: middle;\n",
       "    }\n",
       "\n",
       "    .dataframe tbody tr th {\n",
       "        vertical-align: top;\n",
       "    }\n",
       "\n",
       "    .dataframe thead th {\n",
       "        text-align: right;\n",
       "    }\n",
       "</style>\n",
       "<table border=\"1\" class=\"dataframe\">\n",
       "  <thead>\n",
       "    <tr style=\"text-align: right;\">\n",
       "      <th></th>\n",
       "      <th>strftime('%s','now')- strftime('%s','1 hour')</th>\n",
       "    </tr>\n",
       "  </thead>\n",
       "  <tbody>\n",
       "    <tr>\n",
       "      <th>0</th>\n",
       "      <td>None</td>\n",
       "    </tr>\n",
       "  </tbody>\n",
       "</table>\n",
       "</div>"
      ],
      "text/plain": [
       "  strftime('%s','now')- strftime('%s','1 hour')\n",
       "0                                          None"
      ]
     },
     "execution_count": 56,
     "metadata": {},
     "output_type": "execute_result"
    }
   ],
   "source": [
    "a='''select strftime('%s','now')- strftime('%s','1 hour')'''\n",
    "sql_query(a)\n",
    "\n"
   ]
  },
  {
   "cell_type": "code",
   "execution_count": 57,
   "metadata": {},
   "outputs": [
    {
     "data": {
      "text/plain": [
       "<sqlite3.Cursor at 0x16b0d828440>"
      ]
     },
     "execution_count": 57,
     "metadata": {},
     "output_type": "execute_result"
    }
   ],
   "source": [
    "query_web_log='''create table if not exists web_log (user_id int,\n",
    "                                      timestamp timestamp,\n",
    "                                      action varchar(20));\n",
    "\n",
    "INSERT INTO web_log VALUES \n",
    "(1, strftime('%Y-%m-%d %H:%M:%S', 'now', '-1 hour', '-30 minutes'), 'page_load'),\n",
    "(1, strftime('%Y-%m-%d %H:%M:%S', 'now', '-1 hour', '-10 minutes'), 'page_load'),\n",
    "(1, strftime('%Y-%m-%d %H:%M:%S', 'now', '-1 hour', '-5 minutes'), 'scroll_up'),\n",
    "(1, strftime('%Y-%m-%d %H:%M:%S', 'now', '-1 hour', '-4 minutes'), 'scroll_down'),\n",
    "(1, strftime('%Y-%m-%d %H:%M:%S', 'now', '-1 hour', '-3 minutes'), 'scroll_down'),\n",
    "(1, strftime('%Y-%m-%d %H:%M:%S', 'now', '-1 hour', '-3 minutes'), 'page_exit'),\n",
    "(2, strftime('%Y-%m-%d %H:%M:%S', 'now', '-3 hour', '-30 minutes'), 'page_load'),\n",
    "(2, strftime('%Y-%m-%d %H:%M:%S', 'now', '-3 hour', '-10 minutes'), 'page_load'),\n",
    "(2, strftime('%Y-%m-%d %H:%M:%S', 'now', '-2 hour', '-5 minutes'), 'scroll_up'),\n",
    "(2, strftime('%Y-%m-%d %H:%M:%S', 'now', '-2 hour', '-4 minutes'), 'scroll_down'),\n",
    "(2, strftime('%Y-%m-%d %H:%M:%S', 'now', '-2 hour', '-3 minutes', '-4 seconds'), 'scroll_down'),\n",
    "(2, strftime('%Y-%m-%d %H:%M:%S', 'now', '-2 hour', '-3 minutes', '-1 second'), 'scroll_down'),\n",
    "(2, strftime('%Y-%m-%d %H:%M:%S', 'now', '-2 hour', '-3 minutes'), 'scroll_down'),\n",
    "(2, strftime('%Y-%m-%d %H:%M:%S', 'now', '-1 hour'), 'page_exit'),\n",
    "(2, strftime('%Y-%m-%d %H:%M:%S', 'now', '-1 hour'), 'page_exit'),\n",
    "(3, strftime('%Y-%m-%d %H:%M:%S', 'now', '-10 days', '-2 hour', '-5 minutes'), 'scroll_down'),\n",
    "(3, strftime('%Y-%m-%d %H:%M:%S', 'now', '-10 days', '-2 hour', '-4 minutes'), 'scroll_down'),\n",
    "(4, strftime('%Y-%m-%d %H:%M:%S', 'now', '-13 days', '-21 hours', '-10 minutes'), 'page_load'),\n",
    "(4, strftime('%Y-%m-%d %H:%M:%S', 'now', '-13 days', '-2 hours', '-4 minutes'), 'scroll_down'),\n",
    "(4, strftime('%Y-%m-%d %H:%M:%S', 'now', '-13 days', '-2 hours', '-3 minutes'), 'scroll_down');\n",
    "'''\n",
    "\n",
    "cursor.executescript(query_web_log)"
   ]
  },
  {
   "cell_type": "code",
   "execution_count": 58,
   "metadata": {},
   "outputs": [
    {
     "data": {
      "text/html": [
       "<div>\n",
       "<style scoped>\n",
       "    .dataframe tbody tr th:only-of-type {\n",
       "        vertical-align: middle;\n",
       "    }\n",
       "\n",
       "    .dataframe tbody tr th {\n",
       "        vertical-align: top;\n",
       "    }\n",
       "\n",
       "    .dataframe thead th {\n",
       "        text-align: right;\n",
       "    }\n",
       "</style>\n",
       "<table border=\"1\" class=\"dataframe\">\n",
       "  <thead>\n",
       "    <tr style=\"text-align: right;\">\n",
       "      <th></th>\n",
       "      <th>time('now')</th>\n",
       "    </tr>\n",
       "  </thead>\n",
       "  <tbody>\n",
       "    <tr>\n",
       "      <th>0</th>\n",
       "      <td>15:21:24</td>\n",
       "    </tr>\n",
       "  </tbody>\n",
       "</table>\n",
       "</div>"
      ],
      "text/plain": [
       "  time('now')\n",
       "0    15:21:24"
      ]
     },
     "execution_count": 58,
     "metadata": {},
     "output_type": "execute_result"
    }
   ],
   "source": [
    "ss='''select time('now')'''\n",
    "sql_query(ss)"
   ]
  },
  {
   "cell_type": "code",
   "execution_count": 59,
   "metadata": {},
   "outputs": [
    {
     "data": {
      "text/html": [
       "<div>\n",
       "<style scoped>\n",
       "    .dataframe tbody tr th:only-of-type {\n",
       "        vertical-align: middle;\n",
       "    }\n",
       "\n",
       "    .dataframe tbody tr th {\n",
       "        vertical-align: top;\n",
       "    }\n",
       "\n",
       "    .dataframe thead th {\n",
       "        text-align: right;\n",
       "    }\n",
       "</style>\n",
       "<table border=\"1\" class=\"dataframe\">\n",
       "  <thead>\n",
       "    <tr style=\"text-align: right;\">\n",
       "      <th></th>\n",
       "      <th>user_id</th>\n",
       "      <th>timestamp</th>\n",
       "      <th>action</th>\n",
       "    </tr>\n",
       "  </thead>\n",
       "  <tbody>\n",
       "    <tr>\n",
       "      <th>0</th>\n",
       "      <td>1</td>\n",
       "      <td>2023-12-15 13:36:58</td>\n",
       "      <td>page_load</td>\n",
       "    </tr>\n",
       "    <tr>\n",
       "      <th>1</th>\n",
       "      <td>1</td>\n",
       "      <td>2023-12-15 13:56:58</td>\n",
       "      <td>page_load</td>\n",
       "    </tr>\n",
       "    <tr>\n",
       "      <th>2</th>\n",
       "      <td>1</td>\n",
       "      <td>2023-12-15 14:01:58</td>\n",
       "      <td>scroll_up</td>\n",
       "    </tr>\n",
       "    <tr>\n",
       "      <th>3</th>\n",
       "      <td>1</td>\n",
       "      <td>2023-12-15 14:02:58</td>\n",
       "      <td>scroll_down</td>\n",
       "    </tr>\n",
       "    <tr>\n",
       "      <th>4</th>\n",
       "      <td>1</td>\n",
       "      <td>2023-12-15 14:03:58</td>\n",
       "      <td>scroll_down</td>\n",
       "    </tr>\n",
       "    <tr>\n",
       "      <th>5</th>\n",
       "      <td>1</td>\n",
       "      <td>2023-12-15 14:03:58</td>\n",
       "      <td>page_exit</td>\n",
       "    </tr>\n",
       "    <tr>\n",
       "      <th>6</th>\n",
       "      <td>2</td>\n",
       "      <td>2023-12-15 11:36:58</td>\n",
       "      <td>page_load</td>\n",
       "    </tr>\n",
       "    <tr>\n",
       "      <th>7</th>\n",
       "      <td>2</td>\n",
       "      <td>2023-12-15 11:56:58</td>\n",
       "      <td>page_load</td>\n",
       "    </tr>\n",
       "    <tr>\n",
       "      <th>8</th>\n",
       "      <td>2</td>\n",
       "      <td>2023-12-15 13:01:58</td>\n",
       "      <td>scroll_up</td>\n",
       "    </tr>\n",
       "    <tr>\n",
       "      <th>9</th>\n",
       "      <td>2</td>\n",
       "      <td>2023-12-15 13:02:58</td>\n",
       "      <td>scroll_down</td>\n",
       "    </tr>\n",
       "    <tr>\n",
       "      <th>10</th>\n",
       "      <td>2</td>\n",
       "      <td>2023-12-15 13:03:54</td>\n",
       "      <td>scroll_down</td>\n",
       "    </tr>\n",
       "    <tr>\n",
       "      <th>11</th>\n",
       "      <td>2</td>\n",
       "      <td>2023-12-15 13:03:57</td>\n",
       "      <td>scroll_down</td>\n",
       "    </tr>\n",
       "    <tr>\n",
       "      <th>12</th>\n",
       "      <td>2</td>\n",
       "      <td>2023-12-15 13:03:58</td>\n",
       "      <td>scroll_down</td>\n",
       "    </tr>\n",
       "    <tr>\n",
       "      <th>13</th>\n",
       "      <td>2</td>\n",
       "      <td>2023-12-15 14:06:58</td>\n",
       "      <td>page_exit</td>\n",
       "    </tr>\n",
       "    <tr>\n",
       "      <th>14</th>\n",
       "      <td>2</td>\n",
       "      <td>2023-12-15 14:06:58</td>\n",
       "      <td>page_exit</td>\n",
       "    </tr>\n",
       "    <tr>\n",
       "      <th>15</th>\n",
       "      <td>3</td>\n",
       "      <td>2023-12-05 13:01:58</td>\n",
       "      <td>scroll_down</td>\n",
       "    </tr>\n",
       "    <tr>\n",
       "      <th>16</th>\n",
       "      <td>3</td>\n",
       "      <td>2023-12-05 13:02:58</td>\n",
       "      <td>scroll_down</td>\n",
       "    </tr>\n",
       "    <tr>\n",
       "      <th>17</th>\n",
       "      <td>4</td>\n",
       "      <td>2023-12-01 17:56:58</td>\n",
       "      <td>page_load</td>\n",
       "    </tr>\n",
       "    <tr>\n",
       "      <th>18</th>\n",
       "      <td>4</td>\n",
       "      <td>2023-12-02 13:02:58</td>\n",
       "      <td>scroll_down</td>\n",
       "    </tr>\n",
       "    <tr>\n",
       "      <th>19</th>\n",
       "      <td>4</td>\n",
       "      <td>2023-12-02 13:03:58</td>\n",
       "      <td>scroll_down</td>\n",
       "    </tr>\n",
       "    <tr>\n",
       "      <th>20</th>\n",
       "      <td>1</td>\n",
       "      <td>2023-12-15 13:51:24</td>\n",
       "      <td>page_load</td>\n",
       "    </tr>\n",
       "    <tr>\n",
       "      <th>21</th>\n",
       "      <td>1</td>\n",
       "      <td>2023-12-15 14:11:24</td>\n",
       "      <td>page_load</td>\n",
       "    </tr>\n",
       "    <tr>\n",
       "      <th>22</th>\n",
       "      <td>1</td>\n",
       "      <td>2023-12-15 14:16:24</td>\n",
       "      <td>scroll_up</td>\n",
       "    </tr>\n",
       "    <tr>\n",
       "      <th>23</th>\n",
       "      <td>1</td>\n",
       "      <td>2023-12-15 14:17:24</td>\n",
       "      <td>scroll_down</td>\n",
       "    </tr>\n",
       "    <tr>\n",
       "      <th>24</th>\n",
       "      <td>1</td>\n",
       "      <td>2023-12-15 14:18:24</td>\n",
       "      <td>scroll_down</td>\n",
       "    </tr>\n",
       "    <tr>\n",
       "      <th>25</th>\n",
       "      <td>1</td>\n",
       "      <td>2023-12-15 14:18:24</td>\n",
       "      <td>page_exit</td>\n",
       "    </tr>\n",
       "    <tr>\n",
       "      <th>26</th>\n",
       "      <td>2</td>\n",
       "      <td>2023-12-15 11:51:24</td>\n",
       "      <td>page_load</td>\n",
       "    </tr>\n",
       "    <tr>\n",
       "      <th>27</th>\n",
       "      <td>2</td>\n",
       "      <td>2023-12-15 12:11:24</td>\n",
       "      <td>page_load</td>\n",
       "    </tr>\n",
       "    <tr>\n",
       "      <th>28</th>\n",
       "      <td>2</td>\n",
       "      <td>2023-12-15 13:16:24</td>\n",
       "      <td>scroll_up</td>\n",
       "    </tr>\n",
       "    <tr>\n",
       "      <th>29</th>\n",
       "      <td>2</td>\n",
       "      <td>2023-12-15 13:17:24</td>\n",
       "      <td>scroll_down</td>\n",
       "    </tr>\n",
       "    <tr>\n",
       "      <th>30</th>\n",
       "      <td>2</td>\n",
       "      <td>2023-12-15 13:18:20</td>\n",
       "      <td>scroll_down</td>\n",
       "    </tr>\n",
       "    <tr>\n",
       "      <th>31</th>\n",
       "      <td>2</td>\n",
       "      <td>2023-12-15 13:18:23</td>\n",
       "      <td>scroll_down</td>\n",
       "    </tr>\n",
       "    <tr>\n",
       "      <th>32</th>\n",
       "      <td>2</td>\n",
       "      <td>2023-12-15 13:18:24</td>\n",
       "      <td>scroll_down</td>\n",
       "    </tr>\n",
       "    <tr>\n",
       "      <th>33</th>\n",
       "      <td>2</td>\n",
       "      <td>2023-12-15 14:21:24</td>\n",
       "      <td>page_exit</td>\n",
       "    </tr>\n",
       "    <tr>\n",
       "      <th>34</th>\n",
       "      <td>2</td>\n",
       "      <td>2023-12-15 14:21:24</td>\n",
       "      <td>page_exit</td>\n",
       "    </tr>\n",
       "    <tr>\n",
       "      <th>35</th>\n",
       "      <td>3</td>\n",
       "      <td>2023-12-05 13:16:24</td>\n",
       "      <td>scroll_down</td>\n",
       "    </tr>\n",
       "    <tr>\n",
       "      <th>36</th>\n",
       "      <td>3</td>\n",
       "      <td>2023-12-05 13:17:24</td>\n",
       "      <td>scroll_down</td>\n",
       "    </tr>\n",
       "    <tr>\n",
       "      <th>37</th>\n",
       "      <td>4</td>\n",
       "      <td>2023-12-01 18:11:24</td>\n",
       "      <td>page_load</td>\n",
       "    </tr>\n",
       "    <tr>\n",
       "      <th>38</th>\n",
       "      <td>4</td>\n",
       "      <td>2023-12-02 13:17:24</td>\n",
       "      <td>scroll_down</td>\n",
       "    </tr>\n",
       "    <tr>\n",
       "      <th>39</th>\n",
       "      <td>4</td>\n",
       "      <td>2023-12-02 13:18:24</td>\n",
       "      <td>scroll_down</td>\n",
       "    </tr>\n",
       "  </tbody>\n",
       "</table>\n",
       "</div>"
      ],
      "text/plain": [
       "    user_id            timestamp       action\n",
       "0         1  2023-12-15 13:36:58    page_load\n",
       "1         1  2023-12-15 13:56:58    page_load\n",
       "2         1  2023-12-15 14:01:58    scroll_up\n",
       "3         1  2023-12-15 14:02:58  scroll_down\n",
       "4         1  2023-12-15 14:03:58  scroll_down\n",
       "5         1  2023-12-15 14:03:58    page_exit\n",
       "6         2  2023-12-15 11:36:58    page_load\n",
       "7         2  2023-12-15 11:56:58    page_load\n",
       "8         2  2023-12-15 13:01:58    scroll_up\n",
       "9         2  2023-12-15 13:02:58  scroll_down\n",
       "10        2  2023-12-15 13:03:54  scroll_down\n",
       "11        2  2023-12-15 13:03:57  scroll_down\n",
       "12        2  2023-12-15 13:03:58  scroll_down\n",
       "13        2  2023-12-15 14:06:58    page_exit\n",
       "14        2  2023-12-15 14:06:58    page_exit\n",
       "15        3  2023-12-05 13:01:58  scroll_down\n",
       "16        3  2023-12-05 13:02:58  scroll_down\n",
       "17        4  2023-12-01 17:56:58    page_load\n",
       "18        4  2023-12-02 13:02:58  scroll_down\n",
       "19        4  2023-12-02 13:03:58  scroll_down\n",
       "20        1  2023-12-15 13:51:24    page_load\n",
       "21        1  2023-12-15 14:11:24    page_load\n",
       "22        1  2023-12-15 14:16:24    scroll_up\n",
       "23        1  2023-12-15 14:17:24  scroll_down\n",
       "24        1  2023-12-15 14:18:24  scroll_down\n",
       "25        1  2023-12-15 14:18:24    page_exit\n",
       "26        2  2023-12-15 11:51:24    page_load\n",
       "27        2  2023-12-15 12:11:24    page_load\n",
       "28        2  2023-12-15 13:16:24    scroll_up\n",
       "29        2  2023-12-15 13:17:24  scroll_down\n",
       "30        2  2023-12-15 13:18:20  scroll_down\n",
       "31        2  2023-12-15 13:18:23  scroll_down\n",
       "32        2  2023-12-15 13:18:24  scroll_down\n",
       "33        2  2023-12-15 14:21:24    page_exit\n",
       "34        2  2023-12-15 14:21:24    page_exit\n",
       "35        3  2023-12-05 13:16:24  scroll_down\n",
       "36        3  2023-12-05 13:17:24  scroll_down\n",
       "37        4  2023-12-01 18:11:24    page_load\n",
       "38        4  2023-12-02 13:17:24  scroll_down\n",
       "39        4  2023-12-02 13:18:24  scroll_down"
      ]
     },
     "execution_count": 59,
     "metadata": {},
     "output_type": "execute_result"
    }
   ],
   "source": [
    "ds='''select * from web_log'''\n",
    "\n",
    "sql_query(ds)"
   ]
  },
  {
   "cell_type": "code",
   "execution_count": 60,
   "metadata": {},
   "outputs": [
    {
     "data": {
      "text/html": [
       "<div>\n",
       "<style scoped>\n",
       "    .dataframe tbody tr th:only-of-type {\n",
       "        vertical-align: middle;\n",
       "    }\n",
       "\n",
       "    .dataframe tbody tr th {\n",
       "        vertical-align: top;\n",
       "    }\n",
       "\n",
       "    .dataframe thead th {\n",
       "        text-align: right;\n",
       "    }\n",
       "</style>\n",
       "<table border=\"1\" class=\"dataframe\">\n",
       "  <thead>\n",
       "    <tr style=\"text-align: right;\">\n",
       "      <th></th>\n",
       "      <th>user_id</th>\n",
       "      <th>page_load_time</th>\n",
       "    </tr>\n",
       "  </thead>\n",
       "  <tbody>\n",
       "    <tr>\n",
       "      <th>0</th>\n",
       "      <td>1</td>\n",
       "      <td>2023-12-15 13:36:58</td>\n",
       "    </tr>\n",
       "    <tr>\n",
       "      <th>1</th>\n",
       "      <td>2</td>\n",
       "      <td>2023-12-15 11:36:58</td>\n",
       "    </tr>\n",
       "    <tr>\n",
       "      <th>2</th>\n",
       "      <td>4</td>\n",
       "      <td>2023-12-01 17:56:58</td>\n",
       "    </tr>\n",
       "  </tbody>\n",
       "</table>\n",
       "</div>"
      ],
      "text/plain": [
       "   user_id       page_load_time\n",
       "0        1  2023-12-15 13:36:58\n",
       "1        2  2023-12-15 11:36:58\n",
       "2        4  2023-12-01 17:56:58"
      ]
     },
     "execution_count": 60,
     "metadata": {},
     "output_type": "execute_result"
    }
   ],
   "source": [
    "eee=''' \n",
    "select user_id, min(timestamp) as page_load_time\n",
    "from web_log\n",
    "where action = 'page_load'\n",
    "group by user_id\n",
    "order by user_id;'''\n",
    "\n",
    "'''select max(timestamp) as page_exit_time\n",
    "from web_log\n",
    "where action = 'page_exit'\n",
    "group by user_id\n",
    "order by user_id\n",
    "'''\n",
    "sql_query(eee)\n",
    "\n"
   ]
  },
  {
   "cell_type": "code",
   "execution_count": 61,
   "metadata": {},
   "outputs": [
    {
     "ename": "IntegrityError",
     "evalue": "UNIQUE constraint failed: customers.id",
     "output_type": "error",
     "traceback": [
      "\u001b[1;31m---------------------------------------------------------------------------\u001b[0m",
      "\u001b[1;31mIntegrityError\u001b[0m                            Traceback (most recent call last)",
      "Cell \u001b[1;32mIn[61], line 18\u001b[0m\n\u001b[0;32m      1\u001b[0m query_customers\u001b[38;5;241m=\u001b[39m\u001b[38;5;124m'''\u001b[39m\u001b[38;5;124mcreate table if not exists customers (id INTEGER,\u001b[39m\n\u001b[0;32m      2\u001b[0m \u001b[38;5;124m                        first_name VARCHAR(20) NOT NULL,\u001b[39m\n\u001b[0;32m      3\u001b[0m \u001b[38;5;124m                        last_name VARCHAR(10) NOT NULL,\u001b[39m\n\u001b[1;32m   (...)\u001b[0m\n\u001b[0;32m     15\u001b[0m \u001b[38;5;124m                                (5, \u001b[39m\u001b[38;5;124m'\u001b[39m\u001b[38;5;124mSal\u001b[39m\u001b[38;5;124m'\u001b[39m\u001b[38;5;124m, \u001b[39m\u001b[38;5;124m'\u001b[39m\u001b[38;5;124mTan\u001b[39m\u001b[38;5;124m'\u001b[39m\u001b[38;5;124m, \u001b[39m\u001b[38;5;124m'\u001b[39m\u001b[38;5;124mAmsterdam\u001b[39m\u001b[38;5;124m'\u001b[39m\u001b[38;5;124m, \u001b[39m\u001b[38;5;124m'\u001b[39m\u001b[38;5;124m10 Amsterdam Road\u001b[39m\u001b[38;5;124m'\u001b[39m\u001b[38;5;124m, NULL),\u001b[39m\n\u001b[0;32m     16\u001b[0m \u001b[38;5;124m                                (6, \u001b[39m\u001b[38;5;124m'\u001b[39m\u001b[38;5;124mKaren\u001b[39m\u001b[38;5;124m'\u001b[39m\u001b[38;5;124m, \u001b[39m\u001b[38;5;124m'\u001b[39m\u001b[38;5;124mLee\u001b[39m\u001b[38;5;124m'\u001b[39m\u001b[38;5;124m, \u001b[39m\u001b[38;5;124m'\u001b[39m\u001b[38;5;124mKingston\u001b[39m\u001b[38;5;124m'\u001b[39m\u001b[38;5;124m, NULL, \u001b[39m\u001b[38;5;124m'\u001b[39m\u001b[38;5;124m4563978500\u001b[39m\u001b[38;5;124m'\u001b[39m\u001b[38;5;124m);\u001b[39m\u001b[38;5;124m'''\u001b[39m\n\u001b[1;32m---> 18\u001b[0m \u001b[43mcursor\u001b[49m\u001b[38;5;241;43m.\u001b[39;49m\u001b[43mexecutescript\u001b[49m\u001b[43m(\u001b[49m\u001b[43mquery_customers\u001b[49m\u001b[43m)\u001b[49m\n",
      "\u001b[1;31mIntegrityError\u001b[0m: UNIQUE constraint failed: customers.id"
     ]
    }
   ],
   "source": [
    "query_customers='''create table if not exists customers (id INTEGER,\n",
    "                        first_name VARCHAR(20) NOT NULL,\n",
    "                        last_name VARCHAR(10) NOT NULL,\n",
    "                        city VARCHAR(20),\n",
    "                        address VARCHAR(50),\n",
    "                        phone_number VARCHAR(10),\n",
    "                        PRIMARY KEY (id)\n",
    "                        );\n",
    "\n",
    "INSERT INTO customers VALUES (1, 'John', 'Adam','London', '2020 Park Drive', '9944563214'),\n",
    "                                (2, 'Sally','Brown','Chicago', NULL, '9594836054'),\n",
    "                                (7, 'Jim','Tee','Tokyo', '50 North Street', '9594896054'),\n",
    "                                (3, 'Pauline', 'Jones', NULL, NULL, NULL),\n",
    "                                (4, 'David', 'White', 'Colorado', NULL, NULL),\n",
    "                                (5, 'Sal', 'Tan', 'Amsterdam', '10 Amsterdam Road', NULL),\n",
    "                                (6, 'Karen', 'Lee', 'Kingston', NULL, '4563978500');'''\n",
    " \n",
    "cursor.executescript(query_customers)"
   ]
  },
  {
   "cell_type": "code",
   "execution_count": null,
   "metadata": {},
   "outputs": [
    {
     "data": {
      "text/plain": [
       "<sqlite3.Cursor at 0x16b0d5e1540>"
      ]
     },
     "execution_count": 21,
     "metadata": {},
     "output_type": "execute_result"
    }
   ],
   "source": [
    "query_orders=''' create table if not exists orders (id INTEGER,\n",
    "                        cust_id INTEGER NOT NULL,\n",
    "                        order_date VARCHAR(10) NOT NULL,\n",
    "                        order_quantity INTEGER NOT NULL,\n",
    "                        order_details VARCHAR(50),\n",
    "                        order_cost INTEGER NOT NULL,\n",
    "                        PRIMARY KEY (id)\n",
    "  );\n",
    "\n",
    "\n",
    "INSERT INTO orders VALUES (1, 1,'2019-03-04', 5, 'hat', 20),\n",
    "                            (2, 1, '2019-03-12', 1, 'sweater', 100),\n",
    "                            (3, 3, '2019-04-12', 1, 'sweater', 100),\n",
    "                            (4, 3, '2019-04-12', 2, 'coat', 400),\n",
    "                            (5, 2, '2019-01-01', 1, 'coat', 400),\n",
    "                            (6, 6, '2019-04-01', 3, 'shoes', 100),\n",
    "                            (7, 6, '2019-04-01', 3, 'vest', 200),\n",
    "                            (8, 6, '2019-04-28', 1, 'vest', 200);'''\n",
    "\n",
    "cursor.executescript(query_orders)"
   ]
  },
  {
   "cell_type": "markdown",
   "metadata": {},
   "source": [
    "Guardamos los cambios en la base de datos"
   ]
  },
  {
   "cell_type": "code",
   "execution_count": null,
   "metadata": {},
   "outputs": [],
   "source": [
    "connection.commit()"
   ]
  },
  {
   "cell_type": "markdown",
   "metadata": {},
   "source": [
    "Cerramos la conexión con la base de datos. Esto es opcional ya que podemos seguir usanod la base de datos luego de guardar los cambios"
   ]
  },
  {
   "cell_type": "code",
   "execution_count": null,
   "metadata": {},
   "outputs": [],
   "source": [
    "# connection.close()"
   ]
  },
  {
   "cell_type": "markdown",
   "metadata": {},
   "source": [
    "Reiniciamos la conexión"
   ]
  },
  {
   "cell_type": "code",
   "execution_count": null,
   "metadata": {},
   "outputs": [],
   "source": [
    "# connection = sqlite3.connect(\"data.db\")\n",
    "# cursor = connection.cursor()"
   ]
  },
  {
   "cell_type": "markdown",
   "metadata": {},
   "source": [
    "Comprobando la creación de tablas"
   ]
  },
  {
   "cell_type": "code",
   "execution_count": null,
   "metadata": {},
   "outputs": [
    {
     "data": {
      "text/html": [
       "<div>\n",
       "<style scoped>\n",
       "    .dataframe tbody tr th:only-of-type {\n",
       "        vertical-align: middle;\n",
       "    }\n",
       "\n",
       "    .dataframe tbody tr th {\n",
       "        vertical-align: top;\n",
       "    }\n",
       "\n",
       "    .dataframe thead th {\n",
       "        text-align: right;\n",
       "    }\n",
       "</style>\n",
       "<table border=\"1\" class=\"dataframe\">\n",
       "  <thead>\n",
       "    <tr style=\"text-align: right;\">\n",
       "      <th></th>\n",
       "      <th>name</th>\n",
       "    </tr>\n",
       "  </thead>\n",
       "  <tbody>\n",
       "    <tr>\n",
       "      <th>0</th>\n",
       "      <td>post_events</td>\n",
       "    </tr>\n",
       "    <tr>\n",
       "      <th>1</th>\n",
       "      <td>eu_energy</td>\n",
       "    </tr>\n",
       "    <tr>\n",
       "      <th>2</th>\n",
       "      <td>asia_energy</td>\n",
       "    </tr>\n",
       "    <tr>\n",
       "      <th>3</th>\n",
       "      <td>na_energy</td>\n",
       "    </tr>\n",
       "    <tr>\n",
       "      <th>4</th>\n",
       "      <td>account_status</td>\n",
       "    </tr>\n",
       "    <tr>\n",
       "      <th>5</th>\n",
       "      <td>request_logs</td>\n",
       "    </tr>\n",
       "    <tr>\n",
       "      <th>6</th>\n",
       "      <td>twitter_employee</td>\n",
       "    </tr>\n",
       "    <tr>\n",
       "      <th>7</th>\n",
       "      <td>users</td>\n",
       "    </tr>\n",
       "    <tr>\n",
       "      <th>8</th>\n",
       "      <td>comments</td>\n",
       "    </tr>\n",
       "    <tr>\n",
       "      <th>9</th>\n",
       "      <td>transactions</td>\n",
       "    </tr>\n",
       "    <tr>\n",
       "      <th>10</th>\n",
       "      <td>web_log</td>\n",
       "    </tr>\n",
       "    <tr>\n",
       "      <th>11</th>\n",
       "      <td>customers</td>\n",
       "    </tr>\n",
       "    <tr>\n",
       "      <th>12</th>\n",
       "      <td>orders</td>\n",
       "    </tr>\n",
       "  </tbody>\n",
       "</table>\n",
       "</div>"
      ],
      "text/plain": [
       "                name\n",
       "0        post_events\n",
       "1          eu_energy\n",
       "2        asia_energy\n",
       "3          na_energy\n",
       "4     account_status\n",
       "5       request_logs\n",
       "6   twitter_employee\n",
       "7              users\n",
       "8           comments\n",
       "9       transactions\n",
       "10           web_log\n",
       "11         customers\n",
       "12            orders"
      ]
     },
     "execution_count": 25,
     "metadata": {},
     "output_type": "execute_result"
    }
   ],
   "source": [
    "#Buscamos los nombres de los objetivos tipo table en la base de datos\n",
    "query=''' select name from sqlite_master where type='table' '''\n",
    "\n",
    "sql_query(query)"
   ]
  },
  {
   "cell_type": "markdown",
   "metadata": {},
   "source": [
    "P1: ¿Cuáles son las tasas de éxito por día? "
   ]
  },
  {
   "cell_type": "markdown",
   "metadata": {},
   "source": [
    "-- Solución 1"
   ]
  },
  {
   "cell_type": "code",
   "execution_count": null,
   "metadata": {},
   "outputs": [
    {
     "data": {
      "text/html": [
       "<div>\n",
       "<style scoped>\n",
       "    .dataframe tbody tr th:only-of-type {\n",
       "        vertical-align: middle;\n",
       "    }\n",
       "\n",
       "    .dataframe tbody tr th {\n",
       "        vertical-align: top;\n",
       "    }\n",
       "\n",
       "    .dataframe thead th {\n",
       "        text-align: right;\n",
       "    }\n",
       "</style>\n",
       "<table border=\"1\" class=\"dataframe\">\n",
       "  <thead>\n",
       "    <tr style=\"text-align: right;\">\n",
       "      <th></th>\n",
       "      <th>created_at</th>\n",
       "      <th>success_rate</th>\n",
       "    </tr>\n",
       "  </thead>\n",
       "  <tbody>\n",
       "    <tr>\n",
       "      <th>0</th>\n",
       "      <td>2020-06-01</td>\n",
       "      <td>33.33</td>\n",
       "    </tr>\n",
       "    <tr>\n",
       "      <th>1</th>\n",
       "      <td>2020-06-02</td>\n",
       "      <td>50.00</td>\n",
       "    </tr>\n",
       "    <tr>\n",
       "      <th>2</th>\n",
       "      <td>2020-06-03</td>\n",
       "      <td>0.00</td>\n",
       "    </tr>\n",
       "  </tbody>\n",
       "</table>\n",
       "</div>"
      ],
      "text/plain": [
       "   created_at  success_rate\n",
       "0  2020-06-01         33.33\n",
       "1  2020-06-02         50.00\n",
       "2  2020-06-03          0.00"
      ]
     },
     "execution_count": 26,
     "metadata": {},
     "output_type": "execute_result"
    }
   ],
   "source": [
    "P1=''' SELECT created_at,\n",
    "round((count(case when event_name = 'post' then 1 else null end) * 1.00 /\n",
    "count(case when event_name = 'enter' then 1 else null end)) * 100,2) as  success_rate\n",
    "FROM post_events\n",
    "group by created_at\n",
    "order by created_at'''\n",
    "sql_query(P1)"
   ]
  },
  {
   "cell_type": "markdown",
   "metadata": {},
   "source": [
    "-- Solución 2"
   ]
  },
  {
   "cell_type": "code",
   "execution_count": null,
   "metadata": {},
   "outputs": [
    {
     "data": {
      "text/html": [
       "<div>\n",
       "<style scoped>\n",
       "    .dataframe tbody tr th:only-of-type {\n",
       "        vertical-align: middle;\n",
       "    }\n",
       "\n",
       "    .dataframe tbody tr th {\n",
       "        vertical-align: top;\n",
       "    }\n",
       "\n",
       "    .dataframe thead th {\n",
       "        text-align: right;\n",
       "    }\n",
       "</style>\n",
       "<table border=\"1\" class=\"dataframe\">\n",
       "  <thead>\n",
       "    <tr style=\"text-align: right;\">\n",
       "      <th></th>\n",
       "      <th>created_at</th>\n",
       "      <th>success_rate</th>\n",
       "    </tr>\n",
       "  </thead>\n",
       "  <tbody>\n",
       "    <tr>\n",
       "      <th>0</th>\n",
       "      <td>2020-06-01</td>\n",
       "      <td>33.33</td>\n",
       "    </tr>\n",
       "    <tr>\n",
       "      <th>1</th>\n",
       "      <td>2020-06-02</td>\n",
       "      <td>50.00</td>\n",
       "    </tr>\n",
       "  </tbody>\n",
       "</table>\n",
       "</div>"
      ],
      "text/plain": [
       "   created_at  success_rate\n",
       "0  2020-06-01         33.33\n",
       "1  2020-06-02         50.00"
      ]
     },
     "execution_count": 27,
     "metadata": {},
     "output_type": "execute_result"
    }
   ],
   "source": [
    "P1_1='''WITH Eventos as(\n",
    "SELECT created_at, count(event_name) AS count_event\n",
    "FROM post_events\n",
    "WHERE event_name = 'enter'\t\n",
    "group by created_at\n",
    "),\n",
    "Post as(\n",
    "SELECT created_at, count(event_name) as count_post\n",
    "FROM post_events\n",
    "WHERE event_name = 'post'\n",
    "group by created_at\n",
    ") \n",
    "select e.created_at, \n",
    "round(((p.count_post)*1.00 /e.count_event) * 100,2) as success_rate\n",
    "from Eventos e join Post p ON (e.created_at = p.created_at)\n",
    "order by e.created_at'''\n",
    "sql_query(P1_1)"
   ]
  },
  {
   "cell_type": "markdown",
   "metadata": {},
   "source": [
    "P2: ¿Qué día de la semana tiene la tasa de éxito más baja?   \n",
    "\n",
    "Solución:\n"
   ]
  },
  {
   "cell_type": "code",
   "execution_count": null,
   "metadata": {},
   "outputs": [
    {
     "data": {
      "text/html": [
       "<div>\n",
       "<style scoped>\n",
       "    .dataframe tbody tr th:only-of-type {\n",
       "        vertical-align: middle;\n",
       "    }\n",
       "\n",
       "    .dataframe tbody tr th {\n",
       "        vertical-align: top;\n",
       "    }\n",
       "\n",
       "    .dataframe thead th {\n",
       "        text-align: right;\n",
       "    }\n",
       "</style>\n",
       "<table border=\"1\" class=\"dataframe\">\n",
       "  <thead>\n",
       "    <tr style=\"text-align: right;\">\n",
       "      <th></th>\n",
       "      <th>day_of_week</th>\n",
       "      <th>success_rate</th>\n",
       "    </tr>\n",
       "  </thead>\n",
       "  <tbody>\n",
       "    <tr>\n",
       "      <th>0</th>\n",
       "      <td>3</td>\n",
       "      <td>0.00</td>\n",
       "    </tr>\n",
       "    <tr>\n",
       "      <th>1</th>\n",
       "      <td>1</td>\n",
       "      <td>33.33</td>\n",
       "    </tr>\n",
       "    <tr>\n",
       "      <th>2</th>\n",
       "      <td>2</td>\n",
       "      <td>50.00</td>\n",
       "    </tr>\n",
       "  </tbody>\n",
       "</table>\n",
       "</div>"
      ],
      "text/plain": [
       "  day_of_week  success_rate\n",
       "0           3          0.00\n",
       "1           1         33.33\n",
       "2           2         50.00"
      ]
     },
     "execution_count": 28,
     "metadata": {},
     "output_type": "execute_result"
    }
   ],
   "source": [
    "P2='''SELECT strftime('%w', created_at) as day_of_week, \n",
    "            round((count(case when event_name = 'post' then 1 else null end) * 1.00 /\n",
    "            count(case when event_name = 'enter' then 1 else null end)) * 100,2) as  success_rate\n",
    "FROM post_events\n",
    "group by 1\n",
    "order by 2 asc '''\n",
    "sql_query(P2)"
   ]
  },
  {
   "cell_type": "markdown",
   "metadata": {},
   "source": [
    "P3: Encuentre la fecha con el mayor consumo total de energía de nuestros centros de datos, imprima la fecha junto con la energía total consumida en todos los centros de datos  \n",
    "Tablas: eu_energia, asia_energia, na_energia"
   ]
  },
  {
   "cell_type": "markdown",
   "metadata": {},
   "source": [
    "Solución propuesta en el curso:\n"
   ]
  },
  {
   "cell_type": "code",
   "execution_count": null,
   "metadata": {},
   "outputs": [
    {
     "data": {
      "text/html": [
       "<div>\n",
       "<style scoped>\n",
       "    .dataframe tbody tr th:only-of-type {\n",
       "        vertical-align: middle;\n",
       "    }\n",
       "\n",
       "    .dataframe tbody tr th {\n",
       "        vertical-align: top;\n",
       "    }\n",
       "\n",
       "    .dataframe thead th {\n",
       "        text-align: right;\n",
       "    }\n",
       "</style>\n",
       "<table border=\"1\" class=\"dataframe\">\n",
       "  <thead>\n",
       "    <tr style=\"text-align: right;\">\n",
       "      <th></th>\n",
       "      <th>date</th>\n",
       "      <th>total_consumption</th>\n",
       "    </tr>\n",
       "  </thead>\n",
       "  <tbody>\n",
       "    <tr>\n",
       "      <th>0</th>\n",
       "      <td>2019-06-01</td>\n",
       "      <td>83</td>\n",
       "    </tr>\n",
       "    <tr>\n",
       "      <th>1</th>\n",
       "      <td>2019-06-06</td>\n",
       "      <td>83</td>\n",
       "    </tr>\n",
       "  </tbody>\n",
       "</table>\n",
       "</div>"
      ],
      "text/plain": [
       "         date  total_consumption\n",
       "0  2019-06-01                 83\n",
       "1  2019-06-06                 83"
      ]
     },
     "execution_count": 29,
     "metadata": {},
     "output_type": "execute_result"
    }
   ],
   "source": [
    "P3_1='''WITH total as (\n",
    "SELECT *\n",
    "FROM na_energy\n",
    "UNION ALL \n",
    "SELECT *\n",
    "FROM asia_energy\n",
    "UNION ALL \n",
    "SELECT *\n",
    "FROM eu_energy\n",
    "),\n",
    "sum_consumption as (\n",
    "select t.date, sum(t.consumption)  as total_consumption\n",
    "from total t\n",
    "group by t.date\n",
    ")\n",
    "select s.date, s.total_consumption\n",
    "from sum_consumption s\n",
    "where s.total_consumption = (select max(total_consumption) from sum_consumption)'''\n",
    "\n",
    "sql_query(P3_1)"
   ]
  },
  {
   "cell_type": "markdown",
   "metadata": {},
   "source": [
    "P4: Calcule el porcentaje de cuentas que se cerraron el 10 de enero de 2020   \n",
    "tabla: account_status"
   ]
  },
  {
   "cell_type": "code",
   "execution_count": null,
   "metadata": {},
   "outputs": [
    {
     "data": {
      "text/html": [
       "<div>\n",
       "<style scoped>\n",
       "    .dataframe tbody tr th:only-of-type {\n",
       "        vertical-align: middle;\n",
       "    }\n",
       "\n",
       "    .dataframe tbody tr th {\n",
       "        vertical-align: top;\n",
       "    }\n",
       "\n",
       "    .dataframe thead th {\n",
       "        text-align: right;\n",
       "    }\n",
       "</style>\n",
       "<table border=\"1\" class=\"dataframe\">\n",
       "  <thead>\n",
       "    <tr style=\"text-align: right;\">\n",
       "      <th></th>\n",
       "      <th>percentage</th>\n",
       "    </tr>\n",
       "  </thead>\n",
       "  <tbody>\n",
       "    <tr>\n",
       "      <th>0</th>\n",
       "      <td>25.0</td>\n",
       "    </tr>\n",
       "  </tbody>\n",
       "</table>\n",
       "</div>"
      ],
      "text/plain": [
       "   percentage\n",
       "0        25.0"
      ]
     },
     "execution_count": 30,
     "metadata": {},
     "output_type": "execute_result"
    }
   ],
   "source": [
    "P4_1='''SELECT \n",
    "(count(case when status = 'closed' then 1 else null end) * 1.00 / \n",
    "(count(case when status = 'closed' then 1 else null end) + \n",
    "count(case when status = 'open' then 1 else null end)) ) * 100 as percentage \n",
    "FROM account_status\n",
    "where date = '2020-01-10'  ''';\n",
    "\n",
    "sql_query(P4_1)"
   ]
  },
  {
   "cell_type": "code",
   "execution_count": null,
   "metadata": {},
   "outputs": [
    {
     "data": {
      "text/html": [
       "<div>\n",
       "<style scoped>\n",
       "    .dataframe tbody tr th:only-of-type {\n",
       "        vertical-align: middle;\n",
       "    }\n",
       "\n",
       "    .dataframe tbody tr th {\n",
       "        vertical-align: top;\n",
       "    }\n",
       "\n",
       "    .dataframe thead th {\n",
       "        text-align: right;\n",
       "    }\n",
       "</style>\n",
       "<table border=\"1\" class=\"dataframe\">\n",
       "  <thead>\n",
       "    <tr style=\"text-align: right;\">\n",
       "      <th></th>\n",
       "      <th>percentage</th>\n",
       "    </tr>\n",
       "  </thead>\n",
       "  <tbody>\n",
       "    <tr>\n",
       "      <th>0</th>\n",
       "      <td>25.0</td>\n",
       "    </tr>\n",
       "  </tbody>\n",
       "</table>\n",
       "</div>"
      ],
      "text/plain": [
       "   percentage\n",
       "0        25.0"
      ]
     },
     "execution_count": 31,
     "metadata": {},
     "output_type": "execute_result"
    }
   ],
   "source": [
    "P4_2='''    \n",
    "SELECT \n",
    "round(count(case when status = 'closed' then 1 else null end) * 1.00 / \n",
    "count(case when status = 'closed' or status = 'open' then 1 else null end) * 100 , 2) as percentage\n",
    "FROM account_status\n",
    "where date = '2020-01-10'  '''\n",
    "\n",
    "sql_query(P4_2)"
   ]
  },
  {
   "cell_type": "markdown",
   "metadata": {},
   "source": [
    "P5: Encuentre los tres mejores salarios de cada departamento, mostrar los resultados alfabéticamente por departamento y por sueldo mayor a menor.   \n",
    "tabla: twitter_employee"
   ]
  },
  {
   "cell_type": "code",
   "execution_count": null,
   "metadata": {},
   "outputs": [
    {
     "data": {
      "text/html": [
       "<div>\n",
       "<style scoped>\n",
       "    .dataframe tbody tr th:only-of-type {\n",
       "        vertical-align: middle;\n",
       "    }\n",
       "\n",
       "    .dataframe tbody tr th {\n",
       "        vertical-align: top;\n",
       "    }\n",
       "\n",
       "    .dataframe thead th {\n",
       "        text-align: right;\n",
       "    }\n",
       "</style>\n",
       "<table border=\"1\" class=\"dataframe\">\n",
       "  <thead>\n",
       "    <tr style=\"text-align: right;\">\n",
       "      <th></th>\n",
       "      <th>department</th>\n",
       "      <th>salary</th>\n",
       "      <th>rank_salaries</th>\n",
       "    </tr>\n",
       "  </thead>\n",
       "  <tbody>\n",
       "    <tr>\n",
       "      <th>0</th>\n",
       "      <td>hr</td>\n",
       "      <td>300000</td>\n",
       "      <td>1</td>\n",
       "    </tr>\n",
       "    <tr>\n",
       "      <th>1</th>\n",
       "      <td>hr</td>\n",
       "      <td>60000</td>\n",
       "      <td>2</td>\n",
       "    </tr>\n",
       "    <tr>\n",
       "      <th>2</th>\n",
       "      <td>hr</td>\n",
       "      <td>60000</td>\n",
       "      <td>2</td>\n",
       "    </tr>\n",
       "    <tr>\n",
       "      <th>3</th>\n",
       "      <td>hr</td>\n",
       "      <td>40000</td>\n",
       "      <td>3</td>\n",
       "    </tr>\n",
       "    <tr>\n",
       "      <th>4</th>\n",
       "      <td>product</td>\n",
       "      <td>1200000</td>\n",
       "      <td>1</td>\n",
       "    </tr>\n",
       "    <tr>\n",
       "      <th>5</th>\n",
       "      <td>product</td>\n",
       "      <td>100000</td>\n",
       "      <td>2</td>\n",
       "    </tr>\n",
       "    <tr>\n",
       "      <th>6</th>\n",
       "      <td>product</td>\n",
       "      <td>100000</td>\n",
       "      <td>2</td>\n",
       "    </tr>\n",
       "    <tr>\n",
       "      <th>7</th>\n",
       "      <td>product</td>\n",
       "      <td>40000</td>\n",
       "      <td>3</td>\n",
       "    </tr>\n",
       "    <tr>\n",
       "      <th>8</th>\n",
       "      <td>tech</td>\n",
       "      <td>400000</td>\n",
       "      <td>1</td>\n",
       "    </tr>\n",
       "    <tr>\n",
       "      <th>9</th>\n",
       "      <td>tech</td>\n",
       "      <td>110000</td>\n",
       "      <td>2</td>\n",
       "    </tr>\n",
       "    <tr>\n",
       "      <th>10</th>\n",
       "      <td>tech</td>\n",
       "      <td>80000</td>\n",
       "      <td>3</td>\n",
       "    </tr>\n",
       "  </tbody>\n",
       "</table>\n",
       "</div>"
      ],
      "text/plain": [
       "   department   salary  rank_salaries\n",
       "0          hr   300000              1\n",
       "1          hr    60000              2\n",
       "2          hr    60000              2\n",
       "3          hr    40000              3\n",
       "4     product  1200000              1\n",
       "5     product   100000              2\n",
       "6     product   100000              2\n",
       "7     product    40000              3\n",
       "8        tech   400000              1\n",
       "9        tech   110000              2\n",
       "10       tech    80000              3"
      ]
     },
     "execution_count": 32,
     "metadata": {},
     "output_type": "execute_result"
    }
   ],
   "source": [
    "P5= ''' with ranked as(\n",
    "SELECT department, salary, \n",
    "DENSE_RANK() OVER(PARTITION BY department ORDER BY salary DESC) AS rank_salaries\n",
    "FROM twitter_employee\n",
    ")\n",
    "select department, salary, rank_salaries\n",
    "from ranked \n",
    "where rank_salaries <= 3 and salary is not null\t\n",
    "order by department, salary desc '''\n",
    "\n",
    "sql_query(P5)"
   ]
  },
  {
   "cell_type": "markdown",
   "metadata": {},
   "source": [
    "P6: Para cada fecha, encuentra la diferencia entre la distancia por dólar para esa fecha y el promedio de distancia por dólar para ese año/mes. Suponga que todas las fechas son únicas en el conjunto de datos y también cuente los viajes fallidos.   \n",
    "tabla: request_logs"
   ]
  },
  {
   "cell_type": "code",
   "execution_count": null,
   "metadata": {},
   "outputs": [
    {
     "data": {
      "text/html": [
       "<div>\n",
       "<style scoped>\n",
       "    .dataframe tbody tr th:only-of-type {\n",
       "        vertical-align: middle;\n",
       "    }\n",
       "\n",
       "    .dataframe tbody tr th {\n",
       "        vertical-align: top;\n",
       "    }\n",
       "\n",
       "    .dataframe thead th {\n",
       "        text-align: right;\n",
       "    }\n",
       "</style>\n",
       "<table border=\"1\" class=\"dataframe\">\n",
       "  <thead>\n",
       "    <tr style=\"text-align: right;\">\n",
       "      <th></th>\n",
       "      <th>request_date</th>\n",
       "      <th>difference</th>\n",
       "    </tr>\n",
       "  </thead>\n",
       "  <tbody>\n",
       "    <tr>\n",
       "      <th>0</th>\n",
       "      <td>2020-01-07</td>\n",
       "      <td>0.65</td>\n",
       "    </tr>\n",
       "    <tr>\n",
       "      <th>1</th>\n",
       "      <td>2020-01-09</td>\n",
       "      <td>0.13</td>\n",
       "    </tr>\n",
       "    <tr>\n",
       "      <th>2</th>\n",
       "      <td>2020-01-11</td>\n",
       "      <td>0.92</td>\n",
       "    </tr>\n",
       "    <tr>\n",
       "      <th>3</th>\n",
       "      <td>2020-01-21</td>\n",
       "      <td>0.15</td>\n",
       "    </tr>\n",
       "    <tr>\n",
       "      <th>4</th>\n",
       "      <td>2020-02-07</td>\n",
       "      <td>0.03</td>\n",
       "    </tr>\n",
       "    <tr>\n",
       "      <th>5</th>\n",
       "      <td>2020-02-09</td>\n",
       "      <td>0.09</td>\n",
       "    </tr>\n",
       "    <tr>\n",
       "      <th>6</th>\n",
       "      <td>2020-02-11</td>\n",
       "      <td>0.22</td>\n",
       "    </tr>\n",
       "    <tr>\n",
       "      <th>7</th>\n",
       "      <td>2020-02-21</td>\n",
       "      <td>0.11</td>\n",
       "    </tr>\n",
       "    <tr>\n",
       "      <th>8</th>\n",
       "      <td>2020-03-07</td>\n",
       "      <td>0.65</td>\n",
       "    </tr>\n",
       "    <tr>\n",
       "      <th>9</th>\n",
       "      <td>2020-03-09</td>\n",
       "      <td>0.13</td>\n",
       "    </tr>\n",
       "    <tr>\n",
       "      <th>10</th>\n",
       "      <td>2020-03-11</td>\n",
       "      <td>0.92</td>\n",
       "    </tr>\n",
       "    <tr>\n",
       "      <th>11</th>\n",
       "      <td>2020-03-21</td>\n",
       "      <td>0.15</td>\n",
       "    </tr>\n",
       "    <tr>\n",
       "      <th>12</th>\n",
       "      <td>2020-04-07</td>\n",
       "      <td>0.29</td>\n",
       "    </tr>\n",
       "    <tr>\n",
       "      <th>13</th>\n",
       "      <td>2020-04-09</td>\n",
       "      <td>0.80</td>\n",
       "    </tr>\n",
       "    <tr>\n",
       "      <th>14</th>\n",
       "      <td>2020-04-11</td>\n",
       "      <td>0.26</td>\n",
       "    </tr>\n",
       "    <tr>\n",
       "      <th>15</th>\n",
       "      <td>2020-04-21</td>\n",
       "      <td>0.25</td>\n",
       "    </tr>\n",
       "  </tbody>\n",
       "</table>\n",
       "</div>"
      ],
      "text/plain": [
       "   request_date  difference\n",
       "0    2020-01-07        0.65\n",
       "1    2020-01-09        0.13\n",
       "2    2020-01-11        0.92\n",
       "3    2020-01-21        0.15\n",
       "4    2020-02-07        0.03\n",
       "5    2020-02-09        0.09\n",
       "6    2020-02-11        0.22\n",
       "7    2020-02-21        0.11\n",
       "8    2020-03-07        0.65\n",
       "9    2020-03-09        0.13\n",
       "10   2020-03-11        0.92\n",
       "11   2020-03-21        0.15\n",
       "12   2020-04-07        0.29\n",
       "13   2020-04-09        0.80\n",
       "14   2020-04-11        0.26\n",
       "15   2020-04-21        0.25"
      ]
     },
     "execution_count": 33,
     "metadata": {},
     "output_type": "execute_result"
    }
   ],
   "source": [
    "P6='''SELECT request_date,  \n",
    "ROUND(ABS(CAST(distance_to_travel / monetary_cost -\n",
    "AVG(distance_to_travel / monetary_cost) OVER(PARTITION BY strftime('%Y-%m', request_date)) AS REAL)),2) as difference\n",
    "FROM request_logs\n",
    "ORDER BY request_date;\n",
    "'''\n",
    "\n",
    "sql_query(P6)"
   ]
  },
  {
   "cell_type": "markdown",
   "metadata": {},
   "source": [
    "P7: Usted es un científico de datos en una empresa que ejecuta una plataforma de redes sociales.La empresa quiere echar un vistazo al nivel de participación en su plataforma. Calcular la distribución de comentarios por el conteo de usuarios que se unieron la plataforma entre 2018 y 2020, solo para el mes de enero 2020.  \n",
    "-- Ordenar la salida desde el menor número de comentarios hasta el más alto   \n",
    "-- tablas: users, comments   \n",
    "\n",
    "-- Solución:  \n",
    "-- contar los comentarios y la cantidad de usuarios que hicieron esos comentarios, solo para enero 2020   \n",
    "-- solo aquellos usuarios que se unieron entre 2018 y 2020   \n",
    "-- solo aquellos usuarios que su fecha de union sea anterior a la del posteo    \n",
    "-- ordenar de la menor cantidad de comentarios a la mayor    "
   ]
  },
  {
   "cell_type": "code",
   "execution_count": null,
   "metadata": {},
   "outputs": [
    {
     "data": {
      "text/html": [
       "<div>\n",
       "<style scoped>\n",
       "    .dataframe tbody tr th:only-of-type {\n",
       "        vertical-align: middle;\n",
       "    }\n",
       "\n",
       "    .dataframe tbody tr th {\n",
       "        vertical-align: top;\n",
       "    }\n",
       "\n",
       "    .dataframe thead th {\n",
       "        text-align: right;\n",
       "    }\n",
       "</style>\n",
       "<table border=\"1\" class=\"dataframe\">\n",
       "  <thead>\n",
       "    <tr style=\"text-align: right;\">\n",
       "      <th></th>\n",
       "      <th>num_users</th>\n",
       "      <th>num_comments</th>\n",
       "    </tr>\n",
       "  </thead>\n",
       "  <tbody>\n",
       "    <tr>\n",
       "      <th>0</th>\n",
       "      <td>2</td>\n",
       "      <td>1</td>\n",
       "    </tr>\n",
       "    <tr>\n",
       "      <th>1</th>\n",
       "      <td>1</td>\n",
       "      <td>2</td>\n",
       "    </tr>\n",
       "    <tr>\n",
       "      <th>2</th>\n",
       "      <td>2</td>\n",
       "      <td>3</td>\n",
       "    </tr>\n",
       "  </tbody>\n",
       "</table>\n",
       "</div>"
      ],
      "text/plain": [
       "   num_users  num_comments\n",
       "0          2             1\n",
       "1          1             2\n",
       "2          2             3"
      ]
     },
     "execution_count": 34,
     "metadata": {},
     "output_type": "execute_result"
    }
   ],
   "source": [
    "P7='''with tmp as (\n",
    "SELECT c.user_id , count(body) as total_comments\n",
    "FROM comments c\n",
    "JOIN users u ON (u.id = c.user_id)\n",
    "where u.joined_at between '2018-01-01'   and '2020-12-31' \n",
    "AND created_at > joined_at \n",
    "AND created_at between '2020-01-01' and '2020-01-31' \n",
    "group by user_id\n",
    ")\n",
    "select \n",
    "count(user_id) as num_users , total_comments as num_comments\n",
    "from tmp\n",
    "group by num_comments\n",
    "order by num_comments'''\n",
    "\n",
    "sql_query(P7)"
   ]
  },
  {
   "cell_type": "markdown",
   "metadata": {},
   "source": [
    "P8: Obtenga  el cambio porcentual mensual en los ingresos. La tabla de salida debe tener la forma de año y mes y el cambio porcentual,redondear a 2 decimales y ordenar desde el comienzo del año hasta el final del año.  \n",
    "--Tabla: transactions"
   ]
  },
  {
   "cell_type": "code",
   "execution_count": null,
   "metadata": {},
   "outputs": [
    {
     "data": {
      "text/html": [
       "<div>\n",
       "<style scoped>\n",
       "    .dataframe tbody tr th:only-of-type {\n",
       "        vertical-align: middle;\n",
       "    }\n",
       "\n",
       "    .dataframe tbody tr th {\n",
       "        vertical-align: top;\n",
       "    }\n",
       "\n",
       "    .dataframe thead th {\n",
       "        text-align: right;\n",
       "    }\n",
       "</style>\n",
       "<table border=\"1\" class=\"dataframe\">\n",
       "  <thead>\n",
       "    <tr style=\"text-align: right;\">\n",
       "      <th></th>\n",
       "      <th>month_year</th>\n",
       "      <th>total_consumption</th>\n",
       "    </tr>\n",
       "  </thead>\n",
       "  <tbody>\n",
       "    <tr>\n",
       "      <th>0</th>\n",
       "      <td>2020-01</td>\n",
       "      <td>109</td>\n",
       "    </tr>\n",
       "    <tr>\n",
       "      <th>1</th>\n",
       "      <td>2020-02</td>\n",
       "      <td>611</td>\n",
       "    </tr>\n",
       "    <tr>\n",
       "      <th>2</th>\n",
       "      <td>2020-03</td>\n",
       "      <td>3453</td>\n",
       "    </tr>\n",
       "    <tr>\n",
       "      <th>3</th>\n",
       "      <td>2020-04</td>\n",
       "      <td>1565</td>\n",
       "    </tr>\n",
       "    <tr>\n",
       "      <th>4</th>\n",
       "      <td>2020-05</td>\n",
       "      <td>4564</td>\n",
       "    </tr>\n",
       "  </tbody>\n",
       "</table>\n",
       "</div>"
      ],
      "text/plain": [
       "  month_year  total_consumption\n",
       "0    2020-01                109\n",
       "1    2020-02                611\n",
       "2    2020-03               3453\n",
       "3    2020-04               1565\n",
       "4    2020-05               4564"
      ]
     },
     "execution_count": 35,
     "metadata": {},
     "output_type": "execute_result"
    }
   ],
   "source": [
    "PB='''\n",
    "\n",
    "SELECT strftime('%Y-%m',created_at) as month_year, \n",
    "SUM(value) as total_consumption\n",
    "FROM transactions\n",
    "GROUP BY 1;'''\n",
    "\n",
    "sql_query(PB)\n"
   ]
  },
  {
   "cell_type": "code",
   "execution_count": null,
   "metadata": {},
   "outputs": [
    {
     "data": {
      "text/html": [
       "<div>\n",
       "<style scoped>\n",
       "    .dataframe tbody tr th:only-of-type {\n",
       "        vertical-align: middle;\n",
       "    }\n",
       "\n",
       "    .dataframe tbody tr th {\n",
       "        vertical-align: top;\n",
       "    }\n",
       "\n",
       "    .dataframe thead th {\n",
       "        text-align: right;\n",
       "    }\n",
       "</style>\n",
       "<table border=\"1\" class=\"dataframe\">\n",
       "  <thead>\n",
       "    <tr style=\"text-align: right;\">\n",
       "      <th></th>\n",
       "      <th>month_year</th>\n",
       "      <th>percentage_change</th>\n",
       "    </tr>\n",
       "  </thead>\n",
       "  <tbody>\n",
       "    <tr>\n",
       "      <th>0</th>\n",
       "      <td>2020-01</td>\n",
       "      <td>10900.0</td>\n",
       "    </tr>\n",
       "    <tr>\n",
       "      <th>1</th>\n",
       "      <td>2020-02</td>\n",
       "      <td>400.0</td>\n",
       "    </tr>\n",
       "    <tr>\n",
       "      <th>2</th>\n",
       "      <td>2020-03</td>\n",
       "      <td>400.0</td>\n",
       "    </tr>\n",
       "    <tr>\n",
       "      <th>3</th>\n",
       "      <td>2020-04</td>\n",
       "      <td>0.0</td>\n",
       "    </tr>\n",
       "    <tr>\n",
       "      <th>4</th>\n",
       "      <td>2020-05</td>\n",
       "      <td>100.0</td>\n",
       "    </tr>\n",
       "  </tbody>\n",
       "</table>\n",
       "</div>"
      ],
      "text/plain": [
       "  month_year  percentage_change\n",
       "0    2020-01            10900.0\n",
       "1    2020-02              400.0\n",
       "2    2020-03              400.0\n",
       "3    2020-04                0.0\n",
       "4    2020-05              100.0"
      ]
     },
     "execution_count": 36,
     "metadata": {},
     "output_type": "execute_result"
    }
   ],
   "source": [
    "P8= \"\"\"\n",
    "    SELECT \n",
    "        strftime('%Y-%m', created_at) as month_year, \n",
    "        ROUND(\n",
    "            (SUM(value) - LAG(SUM(value), 1, 0) OVER(ORDER BY strftime('%Y-%m-01', created_at))) /\n",
    "            NULLIF(LAG(SUM(value), 1, 1) OVER(ORDER BY strftime('%Y-%m-01', created_at)), 0) * 100\n",
    "        , 2) AS percentage_change\n",
    "    FROM \n",
    "        transactions\n",
    "    GROUP BY 1 \n",
    "    ORDER BY 1\n",
    "\"\"\"\n",
    "sql_query(P8)\n"
   ]
  },
  {
   "cell_type": "markdown",
   "metadata": {},
   "source": [
    "P9: Desarrolle un pronóstico para una nueva métrica llamada \"distancia por dólar\" mensual, definida como ((distance_to_travel/monetary_cost)) en nuestro conjunto de datos y mida su precisión. Utilice RSME para evaluar la precisión. (Error de raíz cuadrada media (RMSE) es la desviación estándar)  \n",
    "-- Tabla: request_logs  \n",
    "-- POWER():Esta función se usa para encontrar un resultado después de elevar un número de exponente específico a un número base específico.\n"
   ]
  },
  {
   "cell_type": "code",
   "execution_count": null,
   "metadata": {},
   "outputs": [
    {
     "data": {
      "text/html": [
       "<div>\n",
       "<style scoped>\n",
       "    .dataframe tbody tr th:only-of-type {\n",
       "        vertical-align: middle;\n",
       "    }\n",
       "\n",
       "    .dataframe tbody tr th {\n",
       "        vertical-align: top;\n",
       "    }\n",
       "\n",
       "    .dataframe thead th {\n",
       "        text-align: right;\n",
       "    }\n",
       "</style>\n",
       "<table border=\"1\" class=\"dataframe\">\n",
       "  <thead>\n",
       "    <tr style=\"text-align: right;\">\n",
       "      <th></th>\n",
       "      <th>RMSE</th>\n",
       "    </tr>\n",
       "  </thead>\n",
       "  <tbody>\n",
       "    <tr>\n",
       "      <th>0</th>\n",
       "      <td>0.258048</td>\n",
       "    </tr>\n",
       "  </tbody>\n",
       "</table>\n",
       "</div>"
      ],
      "text/plain": [
       "       RMSE\n",
       "0  0.258048"
      ]
     },
     "execution_count": 37,
     "metadata": {},
     "output_type": "execute_result"
    }
   ],
   "source": [
    "P9=\"\"\"WITH tmp as(\n",
    "SELECT strftime('%m',request_date) as month_year, \n",
    "sum(distance_to_travel)/sum(monetary_cost) as distance_per_dollar_actual\n",
    "FROM request_logs\n",
    "group by 1 \n",
    "),\n",
    "model as(\n",
    "SELECT month_year, distance_per_dollar_actual, \n",
    "LAG(distance_per_dollar_actual, 1) OVER (ORDER BY month_year) distance_per_dollar_model\n",
    "FROM tmp\n",
    "group by 1,2\n",
    ")\n",
    "SELECT SQRT(AVG(POWER(distance_per_dollar_actual - distance_per_dollar_model,2))) AS RMSE\n",
    "FROM model \"\"\"\n",
    "\n",
    "sql_query(P9)"
   ]
  },
  {
   "cell_type": "markdown",
   "metadata": {},
   "source": [
    "C:\\Users\\ronal\\Documentos\\Data_scientist\\Github\\SQL\\Data_Analysis_SQL-main\\SQL_Interviews_365_DataScience\\solucion.ipynb"
   ]
  },
  {
   "cell_type": "markdown",
   "metadata": {},
   "source": [
    "P10:Encuentre el cliente con el costo total de pedido más alto entre 2019-02-01 y 2019-05-01. MuestrE su nombre, el costo total de los artículos y la fecha.\n",
    "--Suponga que cada nombre en el conjunto de datos es único y que los clientes pueden realizar varios pedidos en la misma fecha.\n",
    "--Tablas: customers, orders"
   ]
  },
  {
   "cell_type": "code",
   "execution_count": null,
   "metadata": {},
   "outputs": [
    {
     "data": {
      "text/html": [
       "<div>\n",
       "<style scoped>\n",
       "    .dataframe tbody tr th:only-of-type {\n",
       "        vertical-align: middle;\n",
       "    }\n",
       "\n",
       "    .dataframe tbody tr th {\n",
       "        vertical-align: top;\n",
       "    }\n",
       "\n",
       "    .dataframe thead th {\n",
       "        text-align: right;\n",
       "    }\n",
       "</style>\n",
       "<table border=\"1\" class=\"dataframe\">\n",
       "  <thead>\n",
       "    <tr style=\"text-align: right;\">\n",
       "      <th></th>\n",
       "      <th>first_name</th>\n",
       "      <th>order_date</th>\n",
       "      <th>total_cost</th>\n",
       "    </tr>\n",
       "  </thead>\n",
       "  <tbody>\n",
       "    <tr>\n",
       "      <th>0</th>\n",
       "      <td>Karen</td>\n",
       "      <td>2019-04-01</td>\n",
       "      <td>900</td>\n",
       "    </tr>\n",
       "    <tr>\n",
       "      <th>1</th>\n",
       "      <td>Pauline</td>\n",
       "      <td>2019-04-12</td>\n",
       "      <td>900</td>\n",
       "    </tr>\n",
       "  </tbody>\n",
       "</table>\n",
       "</div>"
      ],
      "text/plain": [
       "  first_name  order_date  total_cost\n",
       "0      Karen  2019-04-01         900\n",
       "1    Pauline  2019-04-12         900"
      ]
     },
     "execution_count": 38,
     "metadata": {},
     "output_type": "execute_result"
    }
   ],
   "source": [
    "P10=\"\"\" WITH tmp as(\n",
    "SELECT c.first_name, o.order_date, \n",
    "sum((o.order_cost * o.order_quantity)) as total_cost\n",
    "FROM customers c \n",
    "JOIN orders o ON (c.id = o.cust_id)\n",
    "WHERE order_date between '2019-02-01' and '2019-05-01'\n",
    "group by 1,2\n",
    ")\n",
    "SELECT first_name, order_date, total_cost\n",
    "FROM tmp\n",
    "WHERE total_cost = (SELECT MAX(total_cost) FROM tmp)\"\"\" \n",
    "\n",
    "sql_query(P10)"
   ]
  },
  {
   "cell_type": "markdown",
   "metadata": {},
   "source": [
    "P11: Ustes es cientifico de datos para una compañia que desea entender mejor el comportamiento de sus usuarios en su plataforma. Obtenga el tiempo de sesión promedio de los usuarios en orden ascendente. Suponga que un usuario tiene solo una sesión por día. La duración de la sesión es (page exit- page load)   \n",
    "--Tabla: web_log"
   ]
  },
  {
   "cell_type": "code",
   "execution_count": null,
   "metadata": {},
   "outputs": [
    {
     "data": {
      "text/html": [
       "<div>\n",
       "<style scoped>\n",
       "    .dataframe tbody tr th:only-of-type {\n",
       "        vertical-align: middle;\n",
       "    }\n",
       "\n",
       "    .dataframe tbody tr th {\n",
       "        vertical-align: top;\n",
       "    }\n",
       "\n",
       "    .dataframe thead th {\n",
       "        text-align: right;\n",
       "    }\n",
       "</style>\n",
       "<table border=\"1\" class=\"dataframe\">\n",
       "  <thead>\n",
       "    <tr style=\"text-align: right;\">\n",
       "      <th></th>\n",
       "      <th>user_id</th>\n",
       "      <th>avg_session</th>\n",
       "    </tr>\n",
       "  </thead>\n",
       "  <tbody>\n",
       "    <tr>\n",
       "      <th>0</th>\n",
       "      <td>1</td>\n",
       "      <td>0.0</td>\n",
       "    </tr>\n",
       "    <tr>\n",
       "      <th>1</th>\n",
       "      <td>2</td>\n",
       "      <td>0.0</td>\n",
       "    </tr>\n",
       "  </tbody>\n",
       "</table>\n",
       "</div>"
      ],
      "text/plain": [
       "   user_id  avg_session\n",
       "0        1          0.0\n",
       "1        2          0.0"
      ]
     },
     "execution_count": 39,
     "metadata": {},
     "output_type": "execute_result"
    }
   ],
   "source": [
    "P11=''' WITH session_users as(\n",
    "SELECT a.user_id, a.\"timestamp\" as date_session, \n",
    "MIN(b.\"timestamp\" - a.\"timestamp\") as duration \n",
    "FROM web_log a \n",
    "JOIN web_log b\n",
    "ON (a.user_id = b.user_id)\n",
    "where a.action = 'page_load'\n",
    "and b.action  = 'page_exit'\n",
    "and b.\"timestamp\"  > a.\"timestamp\"\n",
    "group by a.user_id, a.\"timestamp\"\n",
    ")\n",
    "SELECT user_id,AVG(duration) AS avg_session\n",
    "FROM session_users\n",
    "group by user_id\n",
    "order by avg_session ASC'''\n",
    "sql_query(P11)"
   ]
  },
  {
   "cell_type": "code",
   "execution_count": null,
   "metadata": {},
   "outputs": [],
   "source": [
    "connection.commit()\n",
    "connection.close()"
   ]
  },
  {
   "cell_type": "code",
   "execution_count": null,
   "metadata": {},
   "outputs": [],
   "source": []
  }
 ],
 "metadata": {
  "kernelspec": {
   "display_name": "Python 3",
   "language": "python",
   "name": "python3"
  },
  "language_info": {
   "codemirror_mode": {
    "name": "ipython",
    "version": 3
   },
   "file_extension": ".py",
   "mimetype": "text/x-python",
   "name": "python",
   "nbconvert_exporter": "python",
   "pygments_lexer": "ipython3",
   "version": "3.11.7"
  }
 },
 "nbformat": 4,
 "nbformat_minor": 2
}
